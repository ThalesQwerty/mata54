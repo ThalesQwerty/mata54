{
 "cells": [
  {
   "cell_type": "code",
   "execution_count": null,
   "id": "f0d4bbd6",
   "metadata": {
    "vscode": {
     "languageId": "plaintext"
    }
   },
   "outputs": [],
   "source": [
    "!git clone https://github.com/ThalesQwerty/mata54.git\n",
    "%cd mata54"
   ]
  },
  {
   "cell_type": "code",
   "execution_count": null,
   "id": "a232c117",
   "metadata": {
    "vscode": {
     "languageId": "plaintext"
    }
   },
   "outputs": [],
   "source": [
    "!python3 pways.py 3 input.txt output.txt"
   ]
  }
 ],
 "metadata": {
  "language_info": {
   "name": "python"
  }
 },
 "nbformat": 4,
 "nbformat_minor": 5
}
